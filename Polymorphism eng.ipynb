{
 "cells": [
  {
   "cell_type": "code",
   "execution_count": 1,
   "id": "8ab79159-8af1-4478-a867-13e908004fb1",
   "metadata": {},
   "outputs": [],
   "source": [
    "def test(a,b) :\n",
    "    return a+b"
   ]
  },
  {
   "cell_type": "code",
   "execution_count": 2,
   "id": "f2116d18-7ace-450b-af8a-ce6b3827dff6",
   "metadata": {},
   "outputs": [
    {
     "data": {
      "text/plain": [
       "9"
      ]
     },
     "execution_count": 2,
     "metadata": {},
     "output_type": "execute_result"
    }
   ],
   "source": [
    "test(4,5)"
   ]
  },
  {
   "cell_type": "code",
   "execution_count": 3,
   "id": "240ced4b-7b1e-492c-a95f-adee1f1b2661",
   "metadata": {},
   "outputs": [
    {
     "data": {
      "text/plain": [
       "'sudh kumar'"
      ]
     },
     "execution_count": 3,
     "metadata": {},
     "output_type": "execute_result"
    }
   ],
   "source": [
    "test(\"sudh \" , \"kumar\")"
   ]
  },
  {
   "cell_type": "code",
   "execution_count": 4,
   "id": "24d11ddd-f000-48a4-b203-e21f091e3e33",
   "metadata": {},
   "outputs": [
    {
     "data": {
      "text/plain": [
       "[2, 3, 4, 5, 5, 4, 5, 6, 7]"
      ]
     },
     "execution_count": 4,
     "metadata": {},
     "output_type": "execute_result"
    }
   ],
   "source": [
    "test([2,3,4,5,5] , [4,5,6,7])"
   ]
  },
  {
   "cell_type": "code",
   "execution_count": 5,
   "id": "6d164d89-f591-4af7-9192-a8d33e783ffa",
   "metadata": {},
   "outputs": [],
   "source": [
    "class data_science:\n",
    "    def syllabus(self) : \n",
    "        print(\"this is my method for data science syllbaus \" )"
   ]
  },
  {
   "cell_type": "code",
   "execution_count": 6,
   "id": "299f0818-3a64-4f83-b6e9-e337f3afb8b6",
   "metadata": {},
   "outputs": [],
   "source": [
    "class web_dev :\n",
    "    def syllabus(self) : \n",
    "        print(\"this is my method for web dev \" )"
   ]
  },
  {
   "cell_type": "code",
   "execution_count": 7,
   "id": "45dd5348-cde8-4f95-9fa6-e274b65030a4",
   "metadata": {},
   "outputs": [],
   "source": [
    "def class_parcer(class_obj) : \n",
    "    for i in class_obj : \n",
    "        i.syllabus()"
   ]
  },
  {
   "cell_type": "code",
   "execution_count": 8,
   "id": "778679dd-f697-46b9-afe6-4970ba4a3c2b",
   "metadata": {},
   "outputs": [],
   "source": [
    "obj_data_science= data_science()"
   ]
  },
  {
   "cell_type": "code",
   "execution_count": 10,
   "id": "3d486158-770a-49c9-a733-ed9327f054d6",
   "metadata": {},
   "outputs": [],
   "source": [
    "obj_web_dev = web_dev()"
   ]
  },
  {
   "cell_type": "code",
   "execution_count": 11,
   "id": "c803ea82-0def-4071-a8b1-556198dde473",
   "metadata": {},
   "outputs": [],
   "source": [
    "class_ojb = [obj_data_science , obj_web_dev]"
   ]
  },
  {
   "cell_type": "code",
   "execution_count": 12,
   "id": "478dc022-ab61-4c2b-bada-36ce81e98bd9",
   "metadata": {},
   "outputs": [
    {
     "name": "stdout",
     "output_type": "stream",
     "text": [
      "this is my method for data science syllbaus \n",
      "this is my method for web dev \n"
     ]
    }
   ],
   "source": [
    "class_parcer(class_ojb)"
   ]
  },
  {
   "cell_type": "code",
   "execution_count": null,
   "id": "e8a8c542-5198-4e7c-9597-914451bbaa34",
   "metadata": {},
   "outputs": [],
   "source": []
  }
 ],
 "metadata": {
  "kernelspec": {
   "display_name": "Python 3 (ipykernel)",
   "language": "python",
   "name": "python3"
  },
  "language_info": {
   "codemirror_mode": {
    "name": "ipython",
    "version": 3
   },
   "file_extension": ".py",
   "mimetype": "text/x-python",
   "name": "python",
   "nbconvert_exporter": "python",
   "pygments_lexer": "ipython3",
   "version": "3.10.8"
  }
 },
 "nbformat": 4,
 "nbformat_minor": 5
}
